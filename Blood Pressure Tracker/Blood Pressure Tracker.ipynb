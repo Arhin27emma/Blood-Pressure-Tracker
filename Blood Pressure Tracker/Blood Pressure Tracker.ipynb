{
 "cells": [
  {
   "cell_type": "markdown",
   "id": "304fb8ec",
   "metadata": {},
   "source": [
    "BLOOD PRESSURE TRACKER"
   ]
  },
  {
   "cell_type": "code",
   "execution_count": 1,
   "id": "d7ce79bd",
   "metadata": {},
   "outputs": [],
   "source": [
    "#import libraries\n",
    "import pandas as pd\n",
    "import numpy as np\n",
    "\n",
    "# read file using pandas\n",
    "blood_pressure = pd.read_csv(r'C:\\Users\\Dell\\Documents\\AI\\MACHINE LEARNING\\Health_standard.csv')"
   ]
  },
  {
   "cell_type": "code",
   "execution_count": 2,
   "id": "a098ee08",
   "metadata": {},
   "outputs": [
    {
     "data": {
      "text/html": [
       "<div>\n",
       "<style scoped>\n",
       "    .dataframe tbody tr th:only-of-type {\n",
       "        vertical-align: middle;\n",
       "    }\n",
       "\n",
       "    .dataframe tbody tr th {\n",
       "        vertical-align: top;\n",
       "    }\n",
       "\n",
       "    .dataframe thead th {\n",
       "        text-align: right;\n",
       "    }\n",
       "</style>\n",
       "<table border=\"1\" class=\"dataframe\">\n",
       "  <thead>\n",
       "    <tr style=\"text-align: right;\">\n",
       "      <th></th>\n",
       "      <th>Date</th>\n",
       "      <th>Time</th>\n",
       "      <th>Systolic</th>\n",
       "      <th>Diastolic</th>\n",
       "      <th>Heart Rate</th>\n",
       "      <th>Comments</th>\n",
       "    </tr>\n",
       "  </thead>\n",
       "  <tbody>\n",
       "    <tr>\n",
       "      <th>0</th>\n",
       "      <td>11/1/2006</td>\n",
       "      <td>Morning</td>\n",
       "      <td>129</td>\n",
       "      <td>79</td>\n",
       "      <td>72</td>\n",
       "      <td>NaN</td>\n",
       "    </tr>\n",
       "    <tr>\n",
       "      <th>1</th>\n",
       "      <td>11/1/2006</td>\n",
       "      <td>Evening</td>\n",
       "      <td>133</td>\n",
       "      <td>80</td>\n",
       "      <td>75</td>\n",
       "      <td>NaN</td>\n",
       "    </tr>\n",
       "    <tr>\n",
       "      <th>2</th>\n",
       "      <td>11/2/2006</td>\n",
       "      <td>Morning</td>\n",
       "      <td>142</td>\n",
       "      <td>86</td>\n",
       "      <td>70</td>\n",
       "      <td>NaN</td>\n",
       "    </tr>\n",
       "    <tr>\n",
       "      <th>3</th>\n",
       "      <td>11/2/2006</td>\n",
       "      <td>Evening</td>\n",
       "      <td>141</td>\n",
       "      <td>84</td>\n",
       "      <td>68</td>\n",
       "      <td>NaN</td>\n",
       "    </tr>\n",
       "  </tbody>\n",
       "</table>\n",
       "</div>"
      ],
      "text/plain": [
       "        Date     Time  Systolic  Diastolic  Heart Rate  Comments\n",
       "0  11/1/2006  Morning       129         79          72       NaN\n",
       "1  11/1/2006  Evening       133         80          75       NaN\n",
       "2  11/2/2006  Morning       142         86          70       NaN\n",
       "3  11/2/2006  Evening       141         84          68       NaN"
      ]
     },
     "execution_count": 2,
     "metadata": {},
     "output_type": "execute_result"
    }
   ],
   "source": [
    "blood_pressure.head(4)"
   ]
  },
  {
   "cell_type": "code",
   "execution_count": 3,
   "id": "96c383ce",
   "metadata": {},
   "outputs": [
    {
     "data": {
      "text/html": [
       "<div>\n",
       "<style scoped>\n",
       "    .dataframe tbody tr th:only-of-type {\n",
       "        vertical-align: middle;\n",
       "    }\n",
       "\n",
       "    .dataframe tbody tr th {\n",
       "        vertical-align: top;\n",
       "    }\n",
       "\n",
       "    .dataframe thead th {\n",
       "        text-align: right;\n",
       "    }\n",
       "</style>\n",
       "<table border=\"1\" class=\"dataframe\">\n",
       "  <thead>\n",
       "    <tr style=\"text-align: right;\">\n",
       "      <th></th>\n",
       "      <th>Date</th>\n",
       "      <th>Time</th>\n",
       "      <th>Systolic</th>\n",
       "      <th>Diastolic</th>\n",
       "      <th>Heart Rate</th>\n",
       "      <th>Comments</th>\n",
       "    </tr>\n",
       "  </thead>\n",
       "  <tbody>\n",
       "    <tr>\n",
       "      <th>10</th>\n",
       "      <td>11/6/2006</td>\n",
       "      <td>Morning</td>\n",
       "      <td>137</td>\n",
       "      <td>83</td>\n",
       "      <td>69</td>\n",
       "      <td>NaN</td>\n",
       "    </tr>\n",
       "    <tr>\n",
       "      <th>11</th>\n",
       "      <td>11/6/2006</td>\n",
       "      <td>Evening</td>\n",
       "      <td>138</td>\n",
       "      <td>85</td>\n",
       "      <td>66</td>\n",
       "      <td>NaN</td>\n",
       "    </tr>\n",
       "    <tr>\n",
       "      <th>12</th>\n",
       "      <td>11/7/2006</td>\n",
       "      <td>Morning</td>\n",
       "      <td>135</td>\n",
       "      <td>80</td>\n",
       "      <td>67</td>\n",
       "      <td>NaN</td>\n",
       "    </tr>\n",
       "    <tr>\n",
       "      <th>13</th>\n",
       "      <td>11/7/2006</td>\n",
       "      <td>Evening</td>\n",
       "      <td>142</td>\n",
       "      <td>85</td>\n",
       "      <td>72</td>\n",
       "      <td>NaN</td>\n",
       "    </tr>\n",
       "  </tbody>\n",
       "</table>\n",
       "</div>"
      ],
      "text/plain": [
       "         Date     Time  Systolic  Diastolic  Heart Rate  Comments\n",
       "10  11/6/2006  Morning       137         83          69       NaN\n",
       "11  11/6/2006  Evening       138         85          66       NaN\n",
       "12  11/7/2006  Morning       135         80          67       NaN\n",
       "13  11/7/2006  Evening       142         85          72       NaN"
      ]
     },
     "execution_count": 3,
     "metadata": {},
     "output_type": "execute_result"
    }
   ],
   "source": [
    "blood_pressure.tail(4)"
   ]
  },
  {
   "cell_type": "code",
   "execution_count": 4,
   "id": "77766136",
   "metadata": {},
   "outputs": [
    {
     "data": {
      "text/html": [
       "<div>\n",
       "<style scoped>\n",
       "    .dataframe tbody tr th:only-of-type {\n",
       "        vertical-align: middle;\n",
       "    }\n",
       "\n",
       "    .dataframe tbody tr th {\n",
       "        vertical-align: top;\n",
       "    }\n",
       "\n",
       "    .dataframe thead th {\n",
       "        text-align: right;\n",
       "    }\n",
       "</style>\n",
       "<table border=\"1\" class=\"dataframe\">\n",
       "  <thead>\n",
       "    <tr style=\"text-align: right;\">\n",
       "      <th></th>\n",
       "      <th>Date</th>\n",
       "      <th>Time</th>\n",
       "      <th>Systolic</th>\n",
       "      <th>Diastolic</th>\n",
       "      <th>Heart_rate</th>\n",
       "      <th>Comments</th>\n",
       "    </tr>\n",
       "  </thead>\n",
       "  <tbody>\n",
       "    <tr>\n",
       "      <th>0</th>\n",
       "      <td>11/1/2006</td>\n",
       "      <td>Morning</td>\n",
       "      <td>129</td>\n",
       "      <td>79</td>\n",
       "      <td>72</td>\n",
       "      <td>NaN</td>\n",
       "    </tr>\n",
       "    <tr>\n",
       "      <th>1</th>\n",
       "      <td>11/1/2006</td>\n",
       "      <td>Evening</td>\n",
       "      <td>133</td>\n",
       "      <td>80</td>\n",
       "      <td>75</td>\n",
       "      <td>NaN</td>\n",
       "    </tr>\n",
       "    <tr>\n",
       "      <th>2</th>\n",
       "      <td>11/2/2006</td>\n",
       "      <td>Morning</td>\n",
       "      <td>142</td>\n",
       "      <td>86</td>\n",
       "      <td>70</td>\n",
       "      <td>NaN</td>\n",
       "    </tr>\n",
       "    <tr>\n",
       "      <th>3</th>\n",
       "      <td>11/2/2006</td>\n",
       "      <td>Evening</td>\n",
       "      <td>141</td>\n",
       "      <td>84</td>\n",
       "      <td>68</td>\n",
       "      <td>NaN</td>\n",
       "    </tr>\n",
       "  </tbody>\n",
       "</table>\n",
       "</div>"
      ],
      "text/plain": [
       "        Date     Time  Systolic  Diastolic  Heart_rate  Comments\n",
       "0  11/1/2006  Morning       129         79          72       NaN\n",
       "1  11/1/2006  Evening       133         80          75       NaN\n",
       "2  11/2/2006  Morning       142         86          70       NaN\n",
       "3  11/2/2006  Evening       141         84          68       NaN"
      ]
     },
     "execution_count": 4,
     "metadata": {},
     "output_type": "execute_result"
    }
   ],
   "source": [
    "blood_pressure.columns = ['Date', 'Time', 'Systolic', 'Diastolic', 'Heart_rate', 'Comments']\n",
    "blood_pressure.head(4)"
   ]
  },
  {
   "cell_type": "code",
   "execution_count": 5,
   "id": "22d3237e",
   "metadata": {},
   "outputs": [
    {
     "name": "stdout",
     "output_type": "stream",
     "text": [
      "<class 'pandas.core.frame.DataFrame'>\n",
      "RangeIndex: 14 entries, 0 to 13\n",
      "Data columns (total 6 columns):\n",
      " #   Column      Non-Null Count  Dtype  \n",
      "---  ------      --------------  -----  \n",
      " 0   Date        14 non-null     object \n",
      " 1   Time        14 non-null     object \n",
      " 2   Systolic    14 non-null     int64  \n",
      " 3   Diastolic   14 non-null     int64  \n",
      " 4   Heart_rate  14 non-null     int64  \n",
      " 5   Comments    0 non-null      float64\n",
      "dtypes: float64(1), int64(3), object(2)\n",
      "memory usage: 800.0+ bytes\n"
     ]
    }
   ],
   "source": [
    "blood_pressure.info()"
   ]
  },
  {
   "cell_type": "code",
   "execution_count": 6,
   "id": "1c18d4d6",
   "metadata": {},
   "outputs": [
    {
     "data": {
      "text/plain": [
       "(14, 6)"
      ]
     },
     "execution_count": 6,
     "metadata": {},
     "output_type": "execute_result"
    }
   ],
   "source": [
    "blood_pressure.shape"
   ]
  },
  {
   "cell_type": "code",
   "execution_count": 7,
   "id": "348eb268",
   "metadata": {},
   "outputs": [
    {
     "data": {
      "text/plain": [
       "dtype('int64')"
      ]
     },
     "execution_count": 7,
     "metadata": {},
     "output_type": "execute_result"
    }
   ],
   "source": [
    "#blood_pressure.Date.dtype\n",
    "#blood_pressure.Time.dtype\n",
    "#blood_pressure.Systolic.dtype\n",
    "#blood_pressure.Diastolic.dtype\n",
    "blood_pressure.Heart_rate.dtype"
   ]
  },
  {
   "cell_type": "code",
   "execution_count": 8,
   "id": "f922cb3e",
   "metadata": {},
   "outputs": [
    {
     "data": {
      "text/html": [
       "<div>\n",
       "<style scoped>\n",
       "    .dataframe tbody tr th:only-of-type {\n",
       "        vertical-align: middle;\n",
       "    }\n",
       "\n",
       "    .dataframe tbody tr th {\n",
       "        vertical-align: top;\n",
       "    }\n",
       "\n",
       "    .dataframe thead th {\n",
       "        text-align: right;\n",
       "    }\n",
       "</style>\n",
       "<table border=\"1\" class=\"dataframe\">\n",
       "  <thead>\n",
       "    <tr style=\"text-align: right;\">\n",
       "      <th></th>\n",
       "      <th>Date</th>\n",
       "      <th>Time</th>\n",
       "      <th>Systolic</th>\n",
       "      <th>Diastolic</th>\n",
       "      <th>Heart_rate</th>\n",
       "      <th>Comments</th>\n",
       "    </tr>\n",
       "  </thead>\n",
       "  <tbody>\n",
       "    <tr>\n",
       "      <th>0</th>\n",
       "      <td>11/1/2006</td>\n",
       "      <td>Morning</td>\n",
       "      <td>129</td>\n",
       "      <td>79</td>\n",
       "      <td>72</td>\n",
       "      <td>NaN</td>\n",
       "    </tr>\n",
       "    <tr>\n",
       "      <th>1</th>\n",
       "      <td>11/1/2006</td>\n",
       "      <td>Evening</td>\n",
       "      <td>133</td>\n",
       "      <td>80</td>\n",
       "      <td>75</td>\n",
       "      <td>NaN</td>\n",
       "    </tr>\n",
       "    <tr>\n",
       "      <th>2</th>\n",
       "      <td>11/2/2006</td>\n",
       "      <td>Morning</td>\n",
       "      <td>142</td>\n",
       "      <td>86</td>\n",
       "      <td>70</td>\n",
       "      <td>NaN</td>\n",
       "    </tr>\n",
       "    <tr>\n",
       "      <th>3</th>\n",
       "      <td>11/2/2006</td>\n",
       "      <td>Evening</td>\n",
       "      <td>141</td>\n",
       "      <td>84</td>\n",
       "      <td>68</td>\n",
       "      <td>NaN</td>\n",
       "    </tr>\n",
       "  </tbody>\n",
       "</table>\n",
       "</div>"
      ],
      "text/plain": [
       "        Date     Time  Systolic  Diastolic  Heart_rate  Comments\n",
       "0  11/1/2006  Morning       129         79          72       NaN\n",
       "1  11/1/2006  Evening       133         80          75       NaN\n",
       "2  11/2/2006  Morning       142         86          70       NaN\n",
       "3  11/2/2006  Evening       141         84          68       NaN"
      ]
     },
     "execution_count": 8,
     "metadata": {},
     "output_type": "execute_result"
    }
   ],
   "source": [
    "blood_pressure.Systolic = blood_pressure.Systolic.floordiv(1) \n",
    "blood_pressure.head(4)"
   ]
  },
  {
   "cell_type": "code",
   "execution_count": 9,
   "id": "5f379542",
   "metadata": {},
   "outputs": [
    {
     "data": {
      "text/html": [
       "<div>\n",
       "<style scoped>\n",
       "    .dataframe tbody tr th:only-of-type {\n",
       "        vertical-align: middle;\n",
       "    }\n",
       "\n",
       "    .dataframe tbody tr th {\n",
       "        vertical-align: top;\n",
       "    }\n",
       "\n",
       "    .dataframe thead th {\n",
       "        text-align: right;\n",
       "    }\n",
       "</style>\n",
       "<table border=\"1\" class=\"dataframe\">\n",
       "  <thead>\n",
       "    <tr style=\"text-align: right;\">\n",
       "      <th></th>\n",
       "      <th>Systolic</th>\n",
       "      <th>Diastolic</th>\n",
       "      <th>Heart_rate</th>\n",
       "      <th>Comments</th>\n",
       "    </tr>\n",
       "  </thead>\n",
       "  <tbody>\n",
       "    <tr>\n",
       "      <th>count</th>\n",
       "      <td>14.00</td>\n",
       "      <td>14.00</td>\n",
       "      <td>14.00</td>\n",
       "      <td>0.0</td>\n",
       "    </tr>\n",
       "    <tr>\n",
       "      <th>mean</th>\n",
       "      <td>137.29</td>\n",
       "      <td>82.79</td>\n",
       "      <td>71.07</td>\n",
       "      <td>NaN</td>\n",
       "    </tr>\n",
       "    <tr>\n",
       "      <th>std</th>\n",
       "      <td>3.60</td>\n",
       "      <td>2.49</td>\n",
       "      <td>3.34</td>\n",
       "      <td>NaN</td>\n",
       "    </tr>\n",
       "    <tr>\n",
       "      <th>min</th>\n",
       "      <td>129.00</td>\n",
       "      <td>79.00</td>\n",
       "      <td>66.00</td>\n",
       "      <td>NaN</td>\n",
       "    </tr>\n",
       "    <tr>\n",
       "      <th>25%</th>\n",
       "      <td>135.25</td>\n",
       "      <td>80.25</td>\n",
       "      <td>69.00</td>\n",
       "      <td>NaN</td>\n",
       "    </tr>\n",
       "    <tr>\n",
       "      <th>50%</th>\n",
       "      <td>137.50</td>\n",
       "      <td>83.50</td>\n",
       "      <td>71.00</td>\n",
       "      <td>NaN</td>\n",
       "    </tr>\n",
       "    <tr>\n",
       "      <th>75%</th>\n",
       "      <td>139.75</td>\n",
       "      <td>85.00</td>\n",
       "      <td>72.00</td>\n",
       "      <td>NaN</td>\n",
       "    </tr>\n",
       "    <tr>\n",
       "      <th>max</th>\n",
       "      <td>142.00</td>\n",
       "      <td>86.00</td>\n",
       "      <td>78.00</td>\n",
       "      <td>NaN</td>\n",
       "    </tr>\n",
       "  </tbody>\n",
       "</table>\n",
       "</div>"
      ],
      "text/plain": [
       "       Systolic  Diastolic  Heart_rate  Comments\n",
       "count     14.00      14.00       14.00       0.0\n",
       "mean     137.29      82.79       71.07       NaN\n",
       "std        3.60       2.49        3.34       NaN\n",
       "min      129.00      79.00       66.00       NaN\n",
       "25%      135.25      80.25       69.00       NaN\n",
       "50%      137.50      83.50       71.00       NaN\n",
       "75%      139.75      85.00       72.00       NaN\n",
       "max      142.00      86.00       78.00       NaN"
      ]
     },
     "execution_count": 9,
     "metadata": {},
     "output_type": "execute_result"
    }
   ],
   "source": [
    "pd.set_option('display.precision', 2)\n",
    "blood_pressure.describe()"
   ]
  },
  {
   "cell_type": "code",
   "execution_count": 10,
   "id": "3934a248",
   "metadata": {},
   "outputs": [
    {
     "data": {
      "text/plain": [
       "-0.18482010842779692"
      ]
     },
     "execution_count": 10,
     "metadata": {},
     "output_type": "execute_result"
    }
   ],
   "source": [
    "from scipy import stats\n",
    "slr = stats.linregress(x = blood_pressure.Heart_rate, y = blood_pressure.Diastolic)\n",
    "slr.slope"
   ]
  },
  {
   "cell_type": "code",
   "execution_count": 11,
   "id": "e7b5256b",
   "metadata": {},
   "outputs": [
    {
     "data": {
      "text/plain": [
       "95.92114342040415"
      ]
     },
     "execution_count": 11,
     "metadata": {},
     "output_type": "execute_result"
    }
   ],
   "source": [
    "slr.intercept"
   ]
  },
  {
   "cell_type": "code",
   "execution_count": 12,
   "id": "5cb10f74",
   "metadata": {},
   "outputs": [
    {
     "data": {
      "text/plain": [
       "-277.2306554953178"
      ]
     },
     "execution_count": 12,
     "metadata": {},
     "output_type": "execute_result"
    }
   ],
   "source": [
    "slr.slope * 2019 + slr.intercept"
   ]
  },
  {
   "cell_type": "code",
   "execution_count": 13,
   "id": "29067856",
   "metadata": {},
   "outputs": [
    {
     "data": {
      "text/plain": [
       "(66.0, 90.0)"
      ]
     },
     "execution_count": 13,
     "metadata": {},
     "output_type": "execute_result"
    },
    {
     "data": {
      "image/png": "[encoded data removed]",
      "text/plain": [
       "<Figure size 432x288 with 1 Axes>"
      ]
     },
     "metadata": {},
     "output_type": "display_data"
    }
   ],
   "source": [
    "import seaborn as sns\n",
    "#sns.set_title('Blood Pressure Tracker')\n",
    "sns.set_style('darkgrid')\n",
    "axes = sns.regplot(x = blood_pressure.Heart_rate, y = blood_pressure.Diastolic)\n",
    "axes.set_ylim(66,90)"
   ]
  },
  {
   "cell_type": "code",
   "execution_count": null,
   "id": "1c31eaf9",
   "metadata": {},
   "outputs": [],
   "source": []
  }
 ],
 "metadata": {
  "kernelspec": {
   "display_name": "Python 3 (ipykernel)",
   "language": "python",
   "name": "python3"
  },
  "language_info": {
   "codemirror_mode": {
    "name": "ipython",
    "version": 3
   },
   "file_extension": ".py",
   "mimetype": "text/x-python",
   "name": "python",
   "nbconvert_exporter": "python",
   "pygments_lexer": "ipython3",
   "version": "3.9.12"
  }
 },
 "nbformat": 4,
 "nbformat_minor": 5
}
